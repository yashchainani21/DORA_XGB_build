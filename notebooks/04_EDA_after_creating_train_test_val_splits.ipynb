{
 "cells": [
  {
   "cell_type": "markdown",
   "id": "8bffa6f8",
   "metadata": {},
   "source": [
    "### Analyzing distribution of new train/ test/ val fingerprints"
   ]
  },
  {
   "cell_type": "markdown",
   "id": "5a208905",
   "metadata": {},
   "source": [
    "The goal of this notebook is to visualize the distribution of reactions across training, testing, and validation sets. Ideally, reactions mapped to each unique generalized reaction rule in JN1224MIN should make it to each of the three sets and the distribution of positive/ negative reactions for reactions mapped to this rule in each set should also mirror this distribution in our overall dataset.\n",
    "\n",
    "In order to ensure this, we performed an 80/ 10/ 10 train/ test/ validation split on reactions in a stratified manner and on the level of individual reaction rules. This works fine for the most part but we quickly run into 2 issues: (1) what to do when the number of reactions mapped to a rule is less than 10? and (2) what to do when even if there are many reactions mapped to a reaction rule, they are all negative (e.g. rule0005 reverse monooxygenation reactions). In such cases, a stratified split is not possible since both labels (positive and negative) are not available.\n",
    "\n",
    "We circumvent the above two issues by first lumping all rare reaction rules that have less than 10 examples mapped to them under a rare rules category. All reactions beloning to this rare rules category are then divided into an 80/ 10/ 10 train/ test/ val set in a stratified fashion. Further, for reaction rules that do have more than 10 examples mapped to them but only comprise a single data class (i.e. only infeasible reactions), we drop the stratification parameter in using SciKit learn to perform our split since the stratification parameter won't do anything here."
   ]
  },
  {
   "cell_type": "code",
   "execution_count": 1,
   "id": "d65e8133",
   "metadata": {},
   "outputs": [],
   "source": [
    "import pandas as pd\n",
    "\n",
    "import matplotlib.pyplot as plt\n",
    "plt.rcParams['lines.linewidth'] = 2\n",
    "plt.rcParams['figure.dpi'] = 500 # Resolution of figures\n",
    "plt.rcParams[\"figure.autolayout\"] = True\n",
    "plt.rcParams[\"legend.loc\"] = 'best'\n",
    "plt.rcParams['xtick.labelsize']=18\n",
    "plt.rcParams['ytick.labelsize']=18"
   ]
  },
  {
   "cell_type": "code",
   "execution_count": 2,
   "id": "50e3a5ff",
   "metadata": {},
   "outputs": [],
   "source": [
    "train_filepath = '/projects/p30041/YashChainani/ML_feasibility_build/data/fingerprinted_data/training_fingerprints/all_BKM_rxns_ecfp4_train_fingerprints_max_species_4_by_descending_MW'"
   ]
  },
  {
   "cell_type": "code",
   "execution_count": 3,
   "id": "6dd4c319",
   "metadata": {},
   "outputs": [],
   "source": [
    "test_filepath = '/projects/p30041/YashChainani/ML_feasibility_build/data/fingerprinted_data/testing_fingerprints/all_BKM_rxns_ecfp4_test_fingerprints_max_species_4_by_descending_MW'"
   ]
  },
  {
   "cell_type": "code",
   "execution_count": 4,
   "id": "da87a202",
   "metadata": {},
   "outputs": [],
   "source": [
    "val_filepath = '/projects/p30041/YashChainani/ML_feasibility_build/data/fingerprinted_data/validation_fingerprints/all_BKM_rxns_ecfp4_val_fingerprints_max_species_4_by_descending_MW'"
   ]
  },
  {
   "cell_type": "code",
   "execution_count": null,
   "id": "533d86ff",
   "metadata": {},
   "outputs": [],
   "source": [
    "train_df = pd.read_parquet(train_filepath)\n",
    "test_df = pd.read_parquet(test_filepath)\n",
    "val_df = pd.read_parquet(val_filepath)"
   ]
  },
  {
   "cell_type": "code",
   "execution_count": null,
   "id": "d7b41a8a",
   "metadata": {},
   "outputs": [],
   "source": [
    "# Add a 'set' column to each dataframe to indicate the source\n",
    "train_df['set'] = 'Train'\n",
    "test_df['set'] = 'Test'\n",
    "val_df['set'] = 'Validation'"
   ]
  },
  {
   "cell_type": "code",
   "execution_count": null,
   "id": "cac6f73c",
   "metadata": {},
   "outputs": [],
   "source": [
    "# Combine the dataframes\n",
    "combined_df = pd.concat([train_df, test_df, val_df])"
   ]
  },
  {
   "cell_type": "code",
   "execution_count": null,
   "id": "17208cf5",
   "metadata": {},
   "outputs": [],
   "source": [
    "# Get the counts of each reaction rule by feasibility in each set\n",
    "count_data = combined_df.groupby(['set', 'Rule', 'Label']).size().reset_index(name='count')"
   ]
  },
  {
   "cell_type": "code",
   "execution_count": null,
   "id": "5f00aff2",
   "metadata": {},
   "outputs": [],
   "source": [
    "# Pivot the data for plotting\n",
    "pivot_data_combined = count_data.pivot_table(index=['Rule', 'Label'], columns='set', values='count').fillna(0)"
   ]
  },
  {
   "cell_type": "markdown",
   "id": "7b101b48",
   "metadata": {},
   "source": [
    "#### Visualizing the distirbution of positive/ negative reactions for the first five reactions within each of the three sets - train, test, val"
   ]
  },
  {
   "cell_type": "code",
   "execution_count": null,
   "id": "d4f8d2d5",
   "metadata": {},
   "outputs": [],
   "source": [
    "pivot_data = pivot_data_combined.loc[['rule0001','rule0002','rule0003','rule0004','rule0005']]"
   ]
  },
  {
   "cell_type": "code",
   "execution_count": null,
   "id": "1a549df6",
   "metadata": {},
   "outputs": [],
   "source": [
    "# Plot\n",
    "fig, ax = plt.subplots(figsize=(15, 7))\n",
    "\n",
    "# Width of a bar \n",
    "width = 0.2       \n",
    "\n",
    "# Set the position of the bars on the x-axis\n",
    "indices = range(len(pivot_data.index))\n",
    "\n",
    "# Plotting\n",
    "train_bars = ax.bar(indices, pivot_data['Train'], width, label='Train')\n",
    "test_bars = ax.bar([i + width for i in indices], pivot_data['Test'], width, label='Test')\n",
    "val_bars = ax.bar([i + width*2 for i in indices], pivot_data['Validation'], width, label='Validation')\n",
    "\n",
    "# Add xticks on the middle of the group bars\n",
    "ax.set_xlabel('Reaction Rule and Feasibility')\n",
    "ax.set_ylabel('Count')\n",
    "ax.set_title('Distribution of Reaction Rules and Feasibility Across Train, Test, and Validation Sets')\n",
    "ax.set_xticks([i + width for i in indices])\n",
    "ax.set_xticklabels([f\"{rule}_{feas}\" for rule, feas in pivot_data.index], rotation=90)\n",
    "\n",
    "# Create legend & Show graphic\n",
    "ax.legend()\n",
    "plt.tight_layout()\n",
    "plt.show()"
   ]
  },
  {
   "cell_type": "code",
   "execution_count": null,
   "id": "c1c4ccbd",
   "metadata": {},
   "outputs": [],
   "source": [
    "pivot_data = pivot_data_combined.loc[['rule0006','rule0007','rule0008','rule0009','rule0012']]"
   ]
  },
  {
   "cell_type": "code",
   "execution_count": null,
   "id": "ca1dbcf2",
   "metadata": {},
   "outputs": [],
   "source": [
    "# Plot\n",
    "fig, ax = plt.subplots(figsize=(15, 7))\n",
    "\n",
    "# Width of a bar \n",
    "width = 0.2       \n",
    "\n",
    "# Set the position of the bars on the x-axis\n",
    "indices = range(len(pivot_data.index))\n",
    "\n",
    "# Plotting\n",
    "train_bars = ax.bar(indices, pivot_data['Train'], width, label='Train')\n",
    "test_bars = ax.bar([i + width for i in indices], pivot_data['Test'], width, label='Test')\n",
    "val_bars = ax.bar([i + width*2 for i in indices], pivot_data['Validation'], width, label='Validation')\n",
    "\n",
    "# Add xticks on the middle of the group bars\n",
    "ax.set_xlabel('Reaction Rule and Feasibility')\n",
    "ax.set_ylabel('Count')\n",
    "ax.set_title('Distribution of Reaction Rules and Feasibility Across Train, Test, and Validation Sets')\n",
    "ax.set_xticks([i + width for i in indices])\n",
    "ax.set_xticklabels([f\"{rule}_{feas}\" for rule, feas in pivot_data.index], rotation=90)\n",
    "\n",
    "# Create legend & Show graphic\n",
    "ax.legend()\n",
    "plt.tight_layout()\n",
    "plt.show()"
   ]
  },
  {
   "cell_type": "code",
   "execution_count": null,
   "id": "105288cd",
   "metadata": {},
   "outputs": [],
   "source": [
    "pivot_data = pivot_data_combined.loc[['rule0013','rule0014','rule0015','rule0016','rule0017']]"
   ]
  },
  {
   "cell_type": "code",
   "execution_count": null,
   "id": "953da446",
   "metadata": {},
   "outputs": [],
   "source": [
    "# Plot\n",
    "fig, ax = plt.subplots(figsize=(15, 7))\n",
    "\n",
    "# Width of a bar \n",
    "width = 0.2       \n",
    "\n",
    "# Set the position of the bars on the x-axis\n",
    "indices = range(len(pivot_data.index))\n",
    "\n",
    "# Plotting\n",
    "train_bars = ax.bar(indices, pivot_data['Train'], width, label='Train')\n",
    "test_bars = ax.bar([i + width for i in indices], pivot_data['Test'], width, label='Test')\n",
    "val_bars = ax.bar([i + width*2 for i in indices], pivot_data['Validation'], width, label='Validation')\n",
    "\n",
    "# Add xticks on the middle of the group bars\n",
    "ax.set_xlabel('Reaction Rule and Feasibility')\n",
    "ax.set_ylabel('Count')\n",
    "ax.set_title('Distribution of Reaction Rules and Feasibility Across Train, Test, and Validation Sets')\n",
    "ax.set_xticks([i + width for i in indices])\n",
    "ax.set_xticklabels([f\"{rule}_{feas}\" for rule, feas in pivot_data.index], rotation=90)\n",
    "\n",
    "# Create legend & Show graphic\n",
    "ax.legend()\n",
    "plt.tight_layout()\n",
    "plt.show()"
   ]
  },
  {
   "cell_type": "code",
   "execution_count": null,
   "id": "4fdff9d6",
   "metadata": {},
   "outputs": [],
   "source": [
    "pivot_data = pivot_data_combined.loc[['rule0018','rule0019','rule0020','rule0021','rule0022']]"
   ]
  },
  {
   "cell_type": "code",
   "execution_count": null,
   "id": "f16c8867",
   "metadata": {},
   "outputs": [],
   "source": [
    "# Plot\n",
    "fig, ax = plt.subplots(figsize=(15, 7))\n",
    "\n",
    "# Width of a bar \n",
    "width = 0.2       \n",
    "\n",
    "# Set the position of the bars on the x-axis\n",
    "indices = range(len(pivot_data.index))\n",
    "\n",
    "# Plotting\n",
    "train_bars = ax.bar(indices, pivot_data['Train'], width, label='Train')\n",
    "test_bars = ax.bar([i + width for i in indices], pivot_data['Test'], width, label='Test')\n",
    "val_bars = ax.bar([i + width*2 for i in indices], pivot_data['Validation'], width, label='Validation')\n",
    "\n",
    "# Add xticks on the middle of the group bars\n",
    "ax.set_xlabel('Reaction Rule and Feasibility')\n",
    "ax.set_ylabel('Count')\n",
    "ax.set_title('Distribution of Reaction Rules and Feasibility Across Train, Test, and Validation Sets')\n",
    "ax.set_xticks([i + width for i in indices])\n",
    "ax.set_xticklabels([f\"{rule}_{feas}\" for rule, feas in pivot_data.index], rotation=90)\n",
    "\n",
    "# Create legend & Show graphic\n",
    "ax.legend()\n",
    "plt.tight_layout()\n",
    "plt.show()"
   ]
  },
  {
   "cell_type": "code",
   "execution_count": null,
   "id": "333571cd",
   "metadata": {},
   "outputs": [],
   "source": [
    "pivot_data = pivot_data_combined.loc[['rule0023','rule0024','rule0025','rule0026','rule0027']]"
   ]
  },
  {
   "cell_type": "code",
   "execution_count": null,
   "id": "8e71b5d3",
   "metadata": {},
   "outputs": [],
   "source": [
    "# Plot\n",
    "fig, ax = plt.subplots(figsize=(15, 7))\n",
    "\n",
    "# Width of a bar \n",
    "width = 0.2       \n",
    "\n",
    "# Set the position of the bars on the x-axis\n",
    "indices = range(len(pivot_data.index))\n",
    "\n",
    "# Plotting\n",
    "train_bars = ax.bar(indices, pivot_data['Train'], width, label='Train')\n",
    "test_bars = ax.bar([i + width for i in indices], pivot_data['Test'], width, label='Test')\n",
    "val_bars = ax.bar([i + width*2 for i in indices], pivot_data['Validation'], width, label='Validation')\n",
    "\n",
    "# Add xticks on the middle of the group bars\n",
    "ax.set_xlabel('Reaction Rule and Feasibility')\n",
    "ax.set_ylabel('Count')\n",
    "ax.set_title('Distribution of Reaction Rules and Feasibility Across Train, Test, and Validation Sets')\n",
    "ax.set_xticks([i + width for i in indices])\n",
    "ax.set_xticklabels([f\"{rule}_{feas}\" for rule, feas in pivot_data.index], rotation=90)\n",
    "\n",
    "# Create legend & Show graphic\n",
    "ax.legend()\n",
    "plt.tight_layout() \n",
    "plt.show()"
   ]
  },
  {
   "cell_type": "code",
   "execution_count": null,
   "id": "11922df6",
   "metadata": {},
   "outputs": [],
   "source": [
    "pivot_data = pivot_data_combined.loc[['rule0028','rule0029','rule0030']]"
   ]
  },
  {
   "cell_type": "code",
   "execution_count": null,
   "id": "c883a007",
   "metadata": {},
   "outputs": [],
   "source": [
    "# Plot\n",
    "fig, ax = plt.subplots(figsize=(15, 7))\n",
    "\n",
    "# Width of a bar \n",
    "width = 0.2       \n",
    "\n",
    "# Set the position of the bars on the x-axis\n",
    "indices = range(len(pivot_data.index))\n",
    "\n",
    "# Plotting\n",
    "train_bars = ax.bar(indices, pivot_data['Train'], width, label='Train')\n",
    "test_bars = ax.bar([i + width for i in indices], pivot_data['Test'], width, label='Test')\n",
    "val_bars = ax.bar([i + width*2 for i in indices], pivot_data['Validation'], width, label='Validation')\n",
    "\n",
    "# Add xticks on the middle of the group bars\n",
    "ax.set_xlabel('Reaction Rule and Feasibility')\n",
    "ax.set_ylabel('Count')\n",
    "ax.set_title('Distribution of Reaction Rules and Feasibility Across Train, Test, and Validation Sets')\n",
    "ax.set_xticks([i + width for i in indices])\n",
    "ax.set_xticklabels([f\"{rule}_{feas}\" for rule, feas in pivot_data.index], rotation=90)\n",
    "\n",
    "# Create legend & Show graphic\n",
    "ax.legend()\n",
    "plt.tight_layout() \n",
    "plt.show()"
   ]
  },
  {
   "cell_type": "code",
   "execution_count": null,
   "id": "9ce177d2",
   "metadata": {},
   "outputs": [],
   "source": []
  }
 ],
 "metadata": {
  "kernelspec": {
   "display_name": "comprehensive_env_py38",
   "language": "python",
   "name": "comprehensive_env_py38"
  },
  "language_info": {
   "codemirror_mode": {
    "name": "ipython",
    "version": 3
   },
   "file_extension": ".py",
   "mimetype": "text/x-python",
   "name": "python",
   "nbconvert_exporter": "python",
   "pygments_lexer": "ipython3",
   "version": "3.8.18"
  }
 },
 "nbformat": 4,
 "nbformat_minor": 5
}
